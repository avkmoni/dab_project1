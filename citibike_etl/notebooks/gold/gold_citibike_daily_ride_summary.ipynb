{
 "cells": [
  {
   "cell_type": "code",
   "execution_count": null,
   "id": "3656ddad",
   "metadata": {},
   "outputs": [],
   "source": [
    "from pyspark.sql.functions import max, min, avg, count, round"
   ]
  },
  {
   "cell_type": "code",
   "execution_count": null,
   "id": "aaa7425b",
   "metadata": {},
   "outputs": [],
   "source": [
    "catalog = dbutils.widgets.get(\"catalog\")\n",
    "#catalog  = \"citibike_dev\"  "
   ]
  },
  {
   "cell_type": "code",
   "execution_count": null,
   "id": "1f8d8eed",
   "metadata": {},
   "outputs": [],
   "source": [
    "df = spark.read.table(f\"{catalog}.silver.jc_citibike\")"
   ]
  },
  {
   "cell_type": "code",
   "execution_count": null,
   "id": "afab5d5b",
   "metadata": {},
   "outputs": [],
   "source": [
    "df = df.groupBy(\"trip_start_date\").agg(\n",
    "    round(max(\"trip_duration_mins\"),2).alias(\"max_trip_duration_mins\"),\n",
    "    round(min(\"trip_duration_mins\"),2).alias(\"min_trip_duration_mins\"),\n",
    "    round(avg(\"trip_duration_mins\"),2).alias(\"avg_trip_duration_mins\"),\n",
    "    count(\"ride_id\").alias(\"total_trips\")\n",
    ")"
   ]
  },
  {
   "cell_type": "code",
   "execution_count": null,
   "id": "89a7468b",
   "metadata": {},
   "outputs": [],
   "source": [
    "df.write.\\\n",
    "    mode(\"overwrite\").\\\n",
    "    option(\"overwriteSchema\", \"true\").\\\n",
    "    saveAsTable(f\"{catalog}.gold.daily_ride_summary\")"
   ]
  }
 ],
 "metadata": {
  "language_info": {
   "name": "python"
  }
 },
 "nbformat": 4,
 "nbformat_minor": 5
}
