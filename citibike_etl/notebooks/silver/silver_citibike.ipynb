{
 "cells": [
  {
   "cell_type": "code",
   "execution_count": null,
   "id": "2f6829fb",
   "metadata": {},
   "outputs": [
    {
     "ename": "",
     "evalue": "",
     "output_type": "error",
     "traceback": [
      "\u001b[1;31mThe Kernel crashed while executing code in the current cell or a previous cell. \n",
      "\u001b[1;31mPlease review the code in the cell(s) to identify a possible cause of the failure. \n",
      "\u001b[1;31mClick <a href='https://aka.ms/vscodeJupyterKernelCrash'>here</a> for more info. \n",
      "\u001b[1;31mView Jupyter <a href='command:jupyter.viewOutput'>log</a> for further details."
     ]
    }
   ],
   "source": [
    "#import os\n",
    "#import sys\n",
    "\n",
    "#current_dir =  os.getcwd() \n",
    "\n",
    "#project_root = os.path.abspath(os.path.join(current_dir, '..','..','..'))\n",
    "#sys.path.append(project_root)\n",
    "#above setup not requried as it is referencing the package from the wheel file\n",
    " "
   ]
  },
  {
   "cell_type": "code",
   "execution_count": null,
   "id": "96b00d15",
   "metadata": {},
   "outputs": [],
   "source": [
    "pipeline_id = dbutils.widgets.get(\"pipeline_id\")\n",
    "run_id = dbutils.widgets.get(\"run_id\")\n",
    "task_id = dbutils.widgets.get(\"task_id\")\n",
    "processed_timestamp = dbutils.widgets.get(\"processed_timestamp\")\n",
    "catalog = dbutils.widgets.get(\"catalog\")\n",
    "#catalog = \"citibike_dev\""
   ]
  },
  {
   "cell_type": "code",
   "execution_count": null,
   "id": "331a0448",
   "metadata": {},
   "outputs": [],
   "source": [
    "#from src.citibike.citibike_utils import get_trip_duration_mins\n",
    "#from src.utils.datetime_utils import timestamp_to_date_col\n",
    "#src is not required as the package is referenced from the wheel file\n",
    "\n",
    "from citibike.citibike_utils import get_trip_duration_mins\n",
    "from utils.datetime_utils import timestamp_to_date_col\n",
    "from pyspark.sql.functions import create_map, lit"
   ]
  },
  {
   "cell_type": "code",
   "execution_count": null,
   "id": "f1207807",
   "metadata": {},
   "outputs": [],
   "source": [
    "df =spark.read.table(f\"{catalog}.bronze.jc_citibike\")\n",
    "\n"
   ]
  },
  {
   "cell_type": "code",
   "execution_count": null,
   "id": "4e7ea1a7",
   "metadata": {},
   "outputs": [],
   "source": [
    "df = get_trip_duration_mins(spark, df, \"started_at\", \"ended_at\", \"trip_duration_mins\")\n",
    "df = timestamp_to_date_col(spark, df, \"started_at\", \"trip_start_date\")"
   ]
  },
  {
   "cell_type": "code",
   "execution_count": null,
   "id": "6cab2049",
   "metadata": {},
   "outputs": [],
   "source": [
    "df = df.withColumn(\"metadata\", \n",
    "              create_map(\n",
    "                  lit(\"pipeline_id\"), lit(pipeline_id),\n",
    "                  lit(\"run_id\"), lit(run_id),\n",
    "                  lit(\"task_id\"), lit(task_id),\n",
    "                  lit(\"processed_timestamp\"), lit(processed_timestamp)\n",
    "                  ))"
   ]
  },
  {
   "cell_type": "code",
   "execution_count": null,
   "id": "1d2869ca",
   "metadata": {},
   "outputs": [],
   "source": [
    "df = df.select(\n",
    "    \"ride_id\",\n",
    "    \"trip_start_date\",\n",
    "    \"started_at\",\n",
    "    \"ended_at\",\n",
    "    \"start_station_name\",\n",
    "    \"end_station_name\",\n",
    "    \"trip_duration_mins\",\n",
    "    \"metadata\"\n",
    "    )"
   ]
  },
  {
   "cell_type": "code",
   "execution_count": null,
   "id": "bd3a541e",
   "metadata": {},
   "outputs": [],
   "source": [
    "df.write.\\\n",
    "    mode(\"overwrite\").\\\n",
    "    option(\"overwriteSchema\", \"true\").\\\n",
    "    saveAsTable(f\"{catalog}.silver.jc_citibike\")"
   ]
  }
 ],
 "metadata": {
  "kernelspec": {
   "display_name": ".venv",
   "language": "python",
   "name": "python3"
  },
  "language_info": {
   "codemirror_mode": {
    "name": "ipython",
    "version": 3
   },
   "file_extension": ".py",
   "mimetype": "text/x-python",
   "name": "python",
   "nbconvert_exporter": "python",
   "pygments_lexer": "ipython3",
   "version": "3.11.9"
  }
 },
 "nbformat": 4,
 "nbformat_minor": 5
}
