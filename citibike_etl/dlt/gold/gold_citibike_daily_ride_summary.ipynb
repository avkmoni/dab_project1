{
 "cells": [
  {
   "cell_type": "code",
   "execution_count": null,
   "id": "fce7709c",
   "metadata": {},
   "outputs": [],
   "source": [
    "import dlt\n",
    "from pyspark.sql.functions import max, min, avg, count, round"
   ]
  },
  {
   "cell_type": "code",
   "execution_count": null,
   "id": "881e86af",
   "metadata": {},
   "outputs": [],
   "source": [
    "@dlt.table(\n",
    "    comment=\"Gold layer: daily aggregates of ride durations and trip counts for Citi Bike data\"\n",
    ")\n",
    "def gold_daily_ride_summary():\n",
    "    df = (\n",
    "        dlt.read(\"silver_jc_citibike\").\\\n",
    "                groupBy(\"trip_start_date\").agg(\n",
    "                round(max(\"trip_duration_mins\"),2).alias(\"max_trip_duration_mins\"),\n",
    "                round(min(\"trip_duration_mins\"),2).alias(\"min_trip_duration_mins\"),\n",
    "                round(avg(\"trip_duration_mins\"),2).alias(\"avg_trip_duration_mins\"),\n",
    "                count(\"ride_id\").alias(\"total_trips\")\n",
    "        ))\n",
    "    return df"
   ]
  }
 ],
 "metadata": {
  "language_info": {
   "name": "python"
  }
 },
 "nbformat": 4,
 "nbformat_minor": 5
}
